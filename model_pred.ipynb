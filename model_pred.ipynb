{
 "cells": [
  {
   "cell_type": "code",
   "execution_count": 7,
   "id": "c03845c9-ff4a-49bb-9725-3a4277c91455",
   "metadata": {},
   "outputs": [],
   "source": [
    "from plotnine.data import txhousing\n",
    "df = txhousing"
   ]
  },
  {
   "cell_type": "code",
   "execution_count": 24,
   "id": "26c6f3e0-3d61-4ebe-911d-0f64fdedf669",
   "metadata": {},
   "outputs": [
    {
     "name": "stdout",
     "output_type": "stream",
     "text": [
      "Model: Linear Regression\n",
      "MSE: 17568.355583379234\n",
      "RMSE: 132.54567357473135\n",
      "R-squared: 0.985788228274936\n",
      "---------\n",
      "Model: Random Forest\n",
      "MSE: 3211.6208322580646\n",
      "RMSE: 56.67116402773164\n",
      "R-squared: 0.9974019866618198\n",
      "---------\n",
      "Model: Gradient Boosting\n",
      "MSE: 4476.95601186891\n",
      "RMSE: 66.91005912319096\n",
      "R-squared: 0.9963784045375296\n",
      "---------\n"
     ]
    }
   ],
   "source": [
    "import pandas as pd\n",
    "from sklearn.model_selection import train_test_split\n",
    "from sklearn.linear_model import LinearRegression\n",
    "from sklearn.ensemble import RandomForestRegressor, GradientBoostingRegressor\n",
    "from sklearn.metrics import mean_squared_error, r2_score\n",
    "import numpy as np\n",
    "\n",
    "try:\n",
    "    data = txhousing\n",
    "\n",
    "    if data is not None:  \n",
    "        selected_features = ['volume', 'median', 'listings', 'inventory']\n",
    "        data['date'] = pd.to_datetime(data['date'])\n",
    "        data['year'] = data['date'].dt.year\n",
    "        data['month'] = data['date'].dt.month\n",
    "        selected_features.extend(['year', 'month'])\n",
    "\n",
    "        X = data[selected_features]\n",
    "        y = data['sales']\n",
    "\n",
    "        X_train, X_test, y_train, y_test = train_test_split(X, y, test_size=0.2, random_state=42)\n",
    "\n",
    "        models = {\n",
    "            'Linear Regression': LinearRegression(),\n",
    "            'Random Forest': RandomForestRegressor(),\n",
    "            'Gradient Boosting': GradientBoostingRegressor()\n",
    "        }\n",
    "\n",
    "        for name, model in models.items():\n",
    "            model.fit(X_train, y_train)\n",
    "            predictions = model.predict(X_test)\n",
    "            mse = mean_squared_error(y_test, predictions)\n",
    "            rmse = np.sqrt(mse)\n",
    "            r2 = r2_score(y_test, predictions)\n",
    "\n",
    "            print(f\"Model: {name}\")\n",
    "            print(f\"MSE: {mse}\")\n",
    "            print(f\"RMSE: {rmse}\")\n",
    "            print(f\"R-squared: {r2}\")\n",
    "            print(\"---------\")\n",
    "    else:\n",
    "        print(\"Error: Data not loaded.\")\n",
    "\n",
    "except Exception as e:\n",
    "    print(f\"Error: {e}\")\n"
   ]
  },
  {
   "cell_type": "markdown",
   "id": "4df2f611-896f-49ea-9b91-1981008aad94",
   "metadata": {},
   "source": [
    "These results suggest that Random Forest and Gradient Boosting models are fitting the data better than Linear Regression, with much lower errors and higher R-squared values, indicating a better overall fit and predictive capability."
   ]
  },
  {
   "cell_type": "code",
   "execution_count": 25,
   "id": "28656cfd-480a-4d08-adc6-45ad11b3fbad",
   "metadata": {},
   "outputs": [
    {
     "name": "stdout",
     "output_type": "stream",
     "text": [
      "Model: Linear Regression\n",
      "      Actual    Predicted\n",
      "4748   227.0   243.181769\n",
      "6274    43.0    69.837204\n",
      "5477   659.0   646.749013\n",
      "5179   150.0   204.806991\n",
      "7431    21.0  -154.324772\n",
      "2081  2862.0  2731.637765\n",
      "7864   154.0   194.445513\n",
      "7824    41.0    93.279597\n",
      "940    162.0   191.000325\n",
      "5922   679.0   738.320178\n",
      "---------\n",
      "Model: Random Forest\n",
      "      Actual  Predicted\n",
      "4748   227.0     242.25\n",
      "6274    43.0      43.57\n",
      "5477   659.0     678.08\n",
      "5179   150.0     158.17\n",
      "7431    21.0      31.40\n",
      "2081  2862.0    2809.16\n",
      "7864   154.0     152.80\n",
      "7824    41.0      36.20\n",
      "940    162.0     172.14\n",
      "5922   679.0     715.52\n",
      "---------\n",
      "Model: Gradient Boosting\n",
      "      Actual    Predicted\n",
      "4748   227.0   233.225832\n",
      "6274    43.0    52.276209\n",
      "5477   659.0   638.843268\n",
      "5179   150.0   163.337032\n",
      "7431    21.0    30.515714\n",
      "2081  2862.0  2920.914149\n",
      "7864   154.0   143.563144\n",
      "7824    41.0    43.974487\n",
      "940    162.0   156.628040\n",
      "5922   679.0   702.361518\n",
      "---------\n"
     ]
    }
   ],
   "source": [
    "\n",
    "for name, model in models.items():\n",
    "    predictions = model.predict(X_test)\n",
    "    print(f\"Model: {name}\")\n",
    "    \n",
    "    # Comparing predicted sales with the actual sales from the test set\n",
    "    comparison = pd.DataFrame({'Actual': y_test, 'Predicted': predictions})\n",
    "    print(comparison.head(10))  # first 10 rows of actual vs predicted sales\n",
    "    print(\"---------\")\n"
   ]
  },
  {
   "cell_type": "code",
   "execution_count": null,
   "id": "2fdcb3c6-8abf-4e4f-a4ff-55351d1c81ea",
   "metadata": {},
   "outputs": [],
   "source": []
  }
 ],
 "metadata": {
  "kernelspec": {
   "display_name": "Python 3 (ipykernel)",
   "language": "python",
   "name": "python3"
  },
  "language_info": {
   "codemirror_mode": {
    "name": "ipython",
    "version": 3
   },
   "file_extension": ".py",
   "mimetype": "text/x-python",
   "name": "python",
   "nbconvert_exporter": "python",
   "pygments_lexer": "ipython3",
   "version": "3.10.9"
  }
 },
 "nbformat": 4,
 "nbformat_minor": 5
}
